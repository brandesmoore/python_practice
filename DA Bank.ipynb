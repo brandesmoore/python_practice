{
 "cells": [
  {
   "cell_type": "markdown",
   "metadata": {},
   "source": [
    "# DA Bank\n",
    "\n",
    "## Part I: Coins to Cash\n",
    "\n",
    "Create a function called `calc_dollars`. \n",
    "In the function body, define a dictionary and store it in a variable named `piggy_bank`. \n",
    "The dictionary should have the following keys defined.\n",
    "* quarters\n",
    "* nickels\n",
    "* dimes\n",
    "* pennies\n",
    "\n",
    "For each coin type, give yourself as many as you like.\n",
    "```py\n",
    "piggy_bank = {\n",
    "    \"pennies\": 342,\n",
    "    \"nickels\": 9,\n",
    "    \"dimes\": 32\n",
    "}\n",
    "```\n",
    "\n",
    "Once you have given yourself a large stash of coins in your `piggy_bank`, look at each key and perform the appropriate math on the integer value to determine how much money you have in dollars. \n",
    "Store that value in a variable named `dollar_amount` and print it.\n",
    "\n",
    "Given the coins shown above, the output would be `7.07` when you call `calc_dollars()`."
   ]
  },
  {
   "cell_type": "code",
   "execution_count": 1,
   "metadata": {},
   "outputs": [],
   "source": [
    "# code here!\n",
    "\"\"\"\"\"\n",
    "Am I only defining piggy_bank here so that I know\n",
    "what the qty of each denomination is or is it supposed \n",
    "to do something?\"\"\"\n",
    "\n",
    "piggy_bank = {\n",
    "        \"quarters\":200,\n",
    "        \"nickels\":150,\n",
    "        \"dimes\":100,\n",
    "        \"pennies\":250\n",
    "    }\n",
    "    \n",
    "one_quarter = 0.25\n",
    "one_nickel = 0.05\n",
    "one_dime = 0.10\n",
    "one_penny = 0.01\n",
    "\n",
    "\n",
    "def calc_dollars(quarters, nickels, dimes, pennies):\n",
    "    dollar_amount = quarters * one_quarter + nickels * one_nickel + dimes * one_dime + pennies * one_penny\n",
    "    return dollar_amount\n",
    "\n",
    "dollar_amount = calc_dollars(200, 150, 100, 250)"
   ]
  },
  {
   "cell_type": "code",
   "execution_count": 2,
   "metadata": {},
   "outputs": [
    {
     "name": "stdout",
     "output_type": "stream",
     "text": [
      "70.0\n"
     ]
    }
   ],
   "source": [
    "print(dollar_amount)"
   ]
  },
  {
   "cell_type": "markdown",
   "metadata": {},
   "source": [
    "<hr>\n",
    "\n",
    "## Part II: Cash to Coins\n",
    "\n",
    "Now.. Do the reverse. \n",
    "Convert the dollar amount into the coins that make up that dollar amount. \n",
    "The final result is an object with the correct number of quarters, dimes, nickels, and pennies."
   ]
  },
  {
   "cell_type": "code",
   "execution_count": 4,
   "metadata": {
    "scrolled": true
   },
   "outputs": [
    {
     "name": "stdout",
     "output_type": "stream",
     "text": [
      "{'quarters': 34, 'nickels': 1, 'dimes': 1, 'pennies': 5}\n"
     ]
    }
   ],
   "source": [
    "dollar_amt = 8.69\n",
    "\n",
    "# Your magic Python code here\n",
    "\"\"\"\n",
    "Again, does this dictionary serve a purpose\n",
    "\"\"\"\n",
    "\n",
    "piggyBank = {\n",
    "    \"quarters\": 34,\n",
    "    \"nickels\": 1,\n",
    "    \"dimes\": 1,\n",
    "    \"pennies\": 4\n",
    "    }\n",
    "\n",
    "one_quarter = 0.25\n",
    "one_nickel = 0.05\n",
    "one_dime = 0.10\n",
    "one_penny = 0.01\n",
    "\n",
    "def calc_coins(quarters, nickels, dimes, pennies):\n",
    "    piggyBank = coin_bank[1] / one_quarter - coin_bank[3] / one_nickel - coin_bank[5] / one_dime - coin_bank[7] / one_penny\n",
    "    return piggyBank"
   ]
  },
  {
   "cell_type": "code",
   "execution_count": 5,
   "metadata": {},
   "outputs": [
    {
     "name": "stdout",
     "output_type": "stream",
     "text": [
      "{'quarters': 34, 'nickels': 1, 'dimes': 1, 'pennies': 5}\n"
     ]
    }
   ],
   "source": [
    "print(piggyBank)"
   ]
  },
  {
   "cell_type": "markdown",
   "metadata": {},
   "source": [
    "That should produce the following output.\n",
    "\n",
    "```\n",
    ">>> print(piggyBank)\n",
    "{ 'quarters': 34, 'nickels': 1, 'dimes': 1, 'pennies': 4 }\n",
    "```"
   ]
  }
 ],
 "metadata": {
  "kernelspec": {
   "display_name": "Python 3",
   "language": "python",
   "name": "python3"
  },
  "language_info": {
   "codemirror_mode": {
    "name": "ipython",
    "version": 3
   },
   "file_extension": ".py",
   "mimetype": "text/x-python",
   "name": "python",
   "nbconvert_exporter": "python",
   "pygments_lexer": "ipython3",
   "version": "3.7.3"
  }
 },
 "nbformat": 4,
 "nbformat_minor": 2
}
